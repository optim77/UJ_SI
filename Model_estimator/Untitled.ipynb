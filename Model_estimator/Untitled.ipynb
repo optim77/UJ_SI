{
 "cells": [
  {
   "cell_type": "code",
   "execution_count": 204,
   "id": "b3053613",
   "metadata": {},
   "outputs": [],
   "source": [
    "import pandas as pd\n",
    "import numpy as np\n",
    "import matplotlib.pyplot as plt\n",
    "from sklearn.linear_model import LogisticRegression\n",
    "from sklearn.metrics import accuracy_score, precision_score, recall_score, f1_score, confusion_matrix, roc_curve, auc, RocCurveDisplay, roc_auc_score\n",
    "from sklearn.model_selection import train_test_split\n",
    "from sklearn.model_selection import KFold  \n",
    "from sklearn import metrics\n",
    "from sklearn.multiclass import OneVsRestClassifier\n",
    "from sklearn.preprocessing import LabelBinarizer\n",
    "import random"
   ]
  },
  {
   "cell_type": "code",
   "execution_count": 6,
   "id": "2eb9ec2d",
   "metadata": {},
   "outputs": [],
   "source": [
    "wine_df = pd.read_csv('DataSetGrupa3\\wine.csv')\n",
    "tel_df = pd.read_csv('DataSetGrupa3\\Telecust1.csv')"
   ]
  },
  {
   "cell_type": "code",
   "execution_count": 25,
   "id": "919cbccf",
   "metadata": {},
   "outputs": [],
   "source": [
    "tel_df.custcat.replace(['A', 'B', 'C', 'D'], [1, 2, 3, 4], inplace=True)"
   ]
  },
  {
   "cell_type": "code",
   "execution_count": 26,
   "id": "62bf39e3",
   "metadata": {},
   "outputs": [
    {
     "data": {
      "text/html": [
       "<div>\n",
       "<style scoped>\n",
       "    .dataframe tbody tr th:only-of-type {\n",
       "        vertical-align: middle;\n",
       "    }\n",
       "\n",
       "    .dataframe tbody tr th {\n",
       "        vertical-align: top;\n",
       "    }\n",
       "\n",
       "    .dataframe thead th {\n",
       "        text-align: right;\n",
       "    }\n",
       "</style>\n",
       "<table border=\"1\" class=\"dataframe\">\n",
       "  <thead>\n",
       "    <tr style=\"text-align: right;\">\n",
       "      <th></th>\n",
       "      <th>region</th>\n",
       "      <th>tenure</th>\n",
       "      <th>age</th>\n",
       "      <th>income</th>\n",
       "      <th>marital</th>\n",
       "      <th>address</th>\n",
       "      <th>ed</th>\n",
       "      <th>employ</th>\n",
       "      <th>retire</th>\n",
       "      <th>gender</th>\n",
       "      <th>reside</th>\n",
       "      <th>custcat</th>\n",
       "    </tr>\n",
       "  </thead>\n",
       "  <tbody>\n",
       "    <tr>\n",
       "      <th>0</th>\n",
       "      <td>2</td>\n",
       "      <td>13</td>\n",
       "      <td>44</td>\n",
       "      <td>64</td>\n",
       "      <td>1</td>\n",
       "      <td>9</td>\n",
       "      <td>4</td>\n",
       "      <td>5</td>\n",
       "      <td>0</td>\n",
       "      <td>0</td>\n",
       "      <td>2</td>\n",
       "      <td>1</td>\n",
       "    </tr>\n",
       "    <tr>\n",
       "      <th>1</th>\n",
       "      <td>3</td>\n",
       "      <td>11</td>\n",
       "      <td>33</td>\n",
       "      <td>136</td>\n",
       "      <td>1</td>\n",
       "      <td>7</td>\n",
       "      <td>5</td>\n",
       "      <td>5</td>\n",
       "      <td>0</td>\n",
       "      <td>0</td>\n",
       "      <td>6</td>\n",
       "      <td>4</td>\n",
       "    </tr>\n",
       "    <tr>\n",
       "      <th>2</th>\n",
       "      <td>3</td>\n",
       "      <td>68</td>\n",
       "      <td>52</td>\n",
       "      <td>116</td>\n",
       "      <td>1</td>\n",
       "      <td>24</td>\n",
       "      <td>1</td>\n",
       "      <td>29</td>\n",
       "      <td>0</td>\n",
       "      <td>1</td>\n",
       "      <td>2</td>\n",
       "      <td>3</td>\n",
       "    </tr>\n",
       "    <tr>\n",
       "      <th>3</th>\n",
       "      <td>2</td>\n",
       "      <td>33</td>\n",
       "      <td>33</td>\n",
       "      <td>33</td>\n",
       "      <td>0</td>\n",
       "      <td>12</td>\n",
       "      <td>2</td>\n",
       "      <td>0</td>\n",
       "      <td>0</td>\n",
       "      <td>1</td>\n",
       "      <td>1</td>\n",
       "      <td>1</td>\n",
       "    </tr>\n",
       "    <tr>\n",
       "      <th>4</th>\n",
       "      <td>2</td>\n",
       "      <td>23</td>\n",
       "      <td>30</td>\n",
       "      <td>30</td>\n",
       "      <td>1</td>\n",
       "      <td>9</td>\n",
       "      <td>1</td>\n",
       "      <td>2</td>\n",
       "      <td>0</td>\n",
       "      <td>0</td>\n",
       "      <td>4</td>\n",
       "      <td>3</td>\n",
       "    </tr>\n",
       "  </tbody>\n",
       "</table>\n",
       "</div>"
      ],
      "text/plain": [
       "   region  tenure  age  income  marital  address  ed  employ  retire  gender  \\\n",
       "0       2      13   44      64        1        9   4       5       0       0   \n",
       "1       3      11   33     136        1        7   5       5       0       0   \n",
       "2       3      68   52     116        1       24   1      29       0       1   \n",
       "3       2      33   33      33        0       12   2       0       0       1   \n",
       "4       2      23   30      30        1        9   1       2       0       0   \n",
       "\n",
       "   reside  custcat  \n",
       "0       2        1  \n",
       "1       6        4  \n",
       "2       2        3  \n",
       "3       1        1  \n",
       "4       4        3  "
      ]
     },
     "execution_count": 26,
     "metadata": {},
     "output_type": "execute_result"
    }
   ],
   "source": [
    "tel_df.head()"
   ]
  },
  {
   "cell_type": "code",
   "execution_count": null,
   "id": "346e80ac",
   "metadata": {},
   "outputs": [],
   "source": [
    "## Show information about data"
   ]
  },
  {
   "cell_type": "code",
   "execution_count": 30,
   "id": "26260145",
   "metadata": {
    "scrolled": false
   },
   "outputs": [
    {
     "data": {
      "text/html": [
       "<div>\n",
       "<style scoped>\n",
       "    .dataframe tbody tr th:only-of-type {\n",
       "        vertical-align: middle;\n",
       "    }\n",
       "\n",
       "    .dataframe tbody tr th {\n",
       "        vertical-align: top;\n",
       "    }\n",
       "\n",
       "    .dataframe thead th {\n",
       "        text-align: right;\n",
       "    }\n",
       "</style>\n",
       "<table border=\"1\" class=\"dataframe\">\n",
       "  <thead>\n",
       "    <tr style=\"text-align: right;\">\n",
       "      <th></th>\n",
       "      <th>region</th>\n",
       "      <th>tenure</th>\n",
       "      <th>age</th>\n",
       "      <th>income</th>\n",
       "      <th>marital</th>\n",
       "      <th>address</th>\n",
       "      <th>ed</th>\n",
       "      <th>employ</th>\n",
       "      <th>retire</th>\n",
       "      <th>gender</th>\n",
       "      <th>reside</th>\n",
       "      <th>custcat</th>\n",
       "    </tr>\n",
       "  </thead>\n",
       "  <tbody>\n",
       "    <tr>\n",
       "      <th>count</th>\n",
       "      <td>1000.0000</td>\n",
       "      <td>1000.000000</td>\n",
       "      <td>1000.000000</td>\n",
       "      <td>1000.000000</td>\n",
       "      <td>1000.000000</td>\n",
       "      <td>1000.000000</td>\n",
       "      <td>1000.000000</td>\n",
       "      <td>1000.000000</td>\n",
       "      <td>1000.000000</td>\n",
       "      <td>1000.000000</td>\n",
       "      <td>1000.000000</td>\n",
       "      <td>1000.000000</td>\n",
       "    </tr>\n",
       "    <tr>\n",
       "      <th>mean</th>\n",
       "      <td>2.0220</td>\n",
       "      <td>35.526000</td>\n",
       "      <td>41.684000</td>\n",
       "      <td>77.535000</td>\n",
       "      <td>0.495000</td>\n",
       "      <td>11.551000</td>\n",
       "      <td>2.671000</td>\n",
       "      <td>10.987000</td>\n",
       "      <td>0.047000</td>\n",
       "      <td>0.517000</td>\n",
       "      <td>2.331000</td>\n",
       "      <td>2.487000</td>\n",
       "    </tr>\n",
       "    <tr>\n",
       "      <th>std</th>\n",
       "      <td>0.8162</td>\n",
       "      <td>21.359812</td>\n",
       "      <td>12.558816</td>\n",
       "      <td>107.044165</td>\n",
       "      <td>0.500225</td>\n",
       "      <td>10.086681</td>\n",
       "      <td>1.222397</td>\n",
       "      <td>10.082087</td>\n",
       "      <td>0.211745</td>\n",
       "      <td>0.499961</td>\n",
       "      <td>1.435793</td>\n",
       "      <td>1.120306</td>\n",
       "    </tr>\n",
       "    <tr>\n",
       "      <th>min</th>\n",
       "      <td>1.0000</td>\n",
       "      <td>1.000000</td>\n",
       "      <td>18.000000</td>\n",
       "      <td>9.000000</td>\n",
       "      <td>0.000000</td>\n",
       "      <td>0.000000</td>\n",
       "      <td>1.000000</td>\n",
       "      <td>0.000000</td>\n",
       "      <td>0.000000</td>\n",
       "      <td>0.000000</td>\n",
       "      <td>1.000000</td>\n",
       "      <td>1.000000</td>\n",
       "    </tr>\n",
       "    <tr>\n",
       "      <th>25%</th>\n",
       "      <td>1.0000</td>\n",
       "      <td>17.000000</td>\n",
       "      <td>32.000000</td>\n",
       "      <td>29.000000</td>\n",
       "      <td>0.000000</td>\n",
       "      <td>3.000000</td>\n",
       "      <td>2.000000</td>\n",
       "      <td>3.000000</td>\n",
       "      <td>0.000000</td>\n",
       "      <td>0.000000</td>\n",
       "      <td>1.000000</td>\n",
       "      <td>1.000000</td>\n",
       "    </tr>\n",
       "    <tr>\n",
       "      <th>50%</th>\n",
       "      <td>2.0000</td>\n",
       "      <td>34.000000</td>\n",
       "      <td>40.000000</td>\n",
       "      <td>47.000000</td>\n",
       "      <td>0.000000</td>\n",
       "      <td>9.000000</td>\n",
       "      <td>3.000000</td>\n",
       "      <td>8.000000</td>\n",
       "      <td>0.000000</td>\n",
       "      <td>1.000000</td>\n",
       "      <td>2.000000</td>\n",
       "      <td>3.000000</td>\n",
       "    </tr>\n",
       "    <tr>\n",
       "      <th>75%</th>\n",
       "      <td>3.0000</td>\n",
       "      <td>54.000000</td>\n",
       "      <td>51.000000</td>\n",
       "      <td>83.000000</td>\n",
       "      <td>1.000000</td>\n",
       "      <td>18.000000</td>\n",
       "      <td>4.000000</td>\n",
       "      <td>17.000000</td>\n",
       "      <td>0.000000</td>\n",
       "      <td>1.000000</td>\n",
       "      <td>3.000000</td>\n",
       "      <td>3.000000</td>\n",
       "    </tr>\n",
       "    <tr>\n",
       "      <th>max</th>\n",
       "      <td>3.0000</td>\n",
       "      <td>72.000000</td>\n",
       "      <td>77.000000</td>\n",
       "      <td>1668.000000</td>\n",
       "      <td>1.000000</td>\n",
       "      <td>55.000000</td>\n",
       "      <td>5.000000</td>\n",
       "      <td>47.000000</td>\n",
       "      <td>1.000000</td>\n",
       "      <td>1.000000</td>\n",
       "      <td>8.000000</td>\n",
       "      <td>4.000000</td>\n",
       "    </tr>\n",
       "  </tbody>\n",
       "</table>\n",
       "</div>"
      ],
      "text/plain": [
       "          region       tenure          age       income      marital  \\\n",
       "count  1000.0000  1000.000000  1000.000000  1000.000000  1000.000000   \n",
       "mean      2.0220    35.526000    41.684000    77.535000     0.495000   \n",
       "std       0.8162    21.359812    12.558816   107.044165     0.500225   \n",
       "min       1.0000     1.000000    18.000000     9.000000     0.000000   \n",
       "25%       1.0000    17.000000    32.000000    29.000000     0.000000   \n",
       "50%       2.0000    34.000000    40.000000    47.000000     0.000000   \n",
       "75%       3.0000    54.000000    51.000000    83.000000     1.000000   \n",
       "max       3.0000    72.000000    77.000000  1668.000000     1.000000   \n",
       "\n",
       "           address           ed       employ       retire       gender  \\\n",
       "count  1000.000000  1000.000000  1000.000000  1000.000000  1000.000000   \n",
       "mean     11.551000     2.671000    10.987000     0.047000     0.517000   \n",
       "std      10.086681     1.222397    10.082087     0.211745     0.499961   \n",
       "min       0.000000     1.000000     0.000000     0.000000     0.000000   \n",
       "25%       3.000000     2.000000     3.000000     0.000000     0.000000   \n",
       "50%       9.000000     3.000000     8.000000     0.000000     1.000000   \n",
       "75%      18.000000     4.000000    17.000000     0.000000     1.000000   \n",
       "max      55.000000     5.000000    47.000000     1.000000     1.000000   \n",
       "\n",
       "            reside      custcat  \n",
       "count  1000.000000  1000.000000  \n",
       "mean      2.331000     2.487000  \n",
       "std       1.435793     1.120306  \n",
       "min       1.000000     1.000000  \n",
       "25%       1.000000     1.000000  \n",
       "50%       2.000000     3.000000  \n",
       "75%       3.000000     3.000000  \n",
       "max       8.000000     4.000000  "
      ]
     },
     "execution_count": 30,
     "metadata": {},
     "output_type": "execute_result"
    }
   ],
   "source": [
    "tel_df.describe()"
   ]
  },
  {
   "cell_type": "code",
   "execution_count": 43,
   "id": "9d5f0df7",
   "metadata": {},
   "outputs": [],
   "source": [
    "## Display mean, mediana and variance of data"
   ]
  },
  {
   "cell_type": "code",
   "execution_count": 41,
   "id": "cca0050f",
   "metadata": {
    "scrolled": true
   },
   "outputs": [
    {
     "name": "stdout",
     "output_type": "stream",
     "text": [
      "Mean\n",
      " region      2.022\n",
      "tenure     35.526\n",
      "age        41.684\n",
      "income     77.535\n",
      "marital     0.495\n",
      "address    11.551\n",
      "ed          2.671\n",
      "employ     10.987\n",
      "retire      0.047\n",
      "gender      0.517\n",
      "reside      2.331\n",
      "custcat     2.487\n",
      "dtype: float64 \n",
      "\n",
      "\n",
      " Mediana\n",
      " region      2.0\n",
      "tenure     34.0\n",
      "age        40.0\n",
      "income     47.0\n",
      "marital     0.0\n",
      "address     9.0\n",
      "ed          3.0\n",
      "employ      8.0\n",
      "retire      0.0\n",
      "gender      1.0\n",
      "reside      2.0\n",
      "custcat     3.0\n",
      "dtype: float64 \n",
      "\n",
      "\n",
      " Variance\n",
      " region         0.666182\n",
      "tenure       456.241566\n",
      "age          157.723868\n",
      "income     11458.453228\n",
      "marital        0.250225\n",
      "address      101.741140\n",
      "ed             1.494253\n",
      "employ       101.648479\n",
      "retire         0.044836\n",
      "gender         0.249961\n",
      "reside         2.061501\n",
      "custcat        1.255086\n",
      "dtype: float64\n"
     ]
    }
   ],
   "source": [
    "print('Mean\\n', tel_df.mean(),'\\n\\n\\n', 'Mediana\\n', tel_df.median(), '\\n\\n\\n', 'Variance\\n', tel_df.var())"
   ]
  },
  {
   "cell_type": "code",
   "execution_count": 45,
   "id": "62f46acc",
   "metadata": {},
   "outputs": [],
   "source": [
    "## Plotting "
   ]
  },
  {
   "cell_type": "code",
   "execution_count": 58,
   "id": "dbc7cd73",
   "metadata": {},
   "outputs": [
    {
     "data": {
      "text/plain": [
       "[<matplotlib.lines.Line2D at 0x20b94f1bc70>]"
      ]
     },
     "execution_count": 58,
     "metadata": {},
     "output_type": "execute_result"
    },
    {
     "data": {
      "image/png": "[encoded data removed]",
      "text/plain": [
       "<Figure size 432x288 with 1 Axes>"
      ]
     },
     "metadata": {
      "needs_background": "light"
     },
     "output_type": "display_data"
    }
   ],
   "source": [
    "plt.plot(tel_df.index, tel_df.income)"
   ]
  },
  {
   "cell_type": "code",
   "execution_count": 60,
   "id": "92c0b07a",
   "metadata": {},
   "outputs": [
    {
     "data": {
      "text/plain": [
       "(array([333., 223., 137.,  83.,  95.,  54.,  29.,  29.,   9.,   8.]),\n",
       " array([ 0. ,  4.7,  9.4, 14.1, 18.8, 23.5, 28.2, 32.9, 37.6, 42.3, 47. ]),\n",
       " <BarContainer object of 10 artists>)"
      ]
     },
     "execution_count": 60,
     "metadata": {},
     "output_type": "execute_result"
    },
    {
     "data": {
      "image/png": "[encoded data removed]",
      "text/plain": [
       "<Figure size 432x288 with 1 Axes>"
      ]
     },
     "metadata": {
      "needs_background": "light"
     },
     "output_type": "display_data"
    }
   ],
   "source": [
    "plt.hist(tel_df.employ)"
   ]
  },
  {
   "cell_type": "code",
   "execution_count": 92,
   "id": "28e15e0f",
   "metadata": {},
   "outputs": [],
   "source": [
    "# Build logistic regresion for tel "
   ]
  },
  {
   "cell_type": "code",
   "execution_count": 96,
   "id": "5b76553a",
   "metadata": {},
   "outputs": [
    {
     "name": "stdout",
     "output_type": "stream",
     "text": [
      "[[ 0.11328085 -0.004551  ]\n",
      " [-0.08069622  0.0006233 ]\n",
      " [-0.04251669  0.00188302]\n",
      " [ 0.00993206  0.00204468]] [ 0.13385419 -0.0010055   0.08140939 -0.21425809]\n"
     ]
    }
   ],
   "source": [
    "model = LogisticRegression()\n",
    "tel_X = tel_df[['region', 'income']].values\n",
    "tel_y = tel_df['custcat'].values\n",
    "model.fit(tel_X, tel_y)\n",
    "print(model.coef_, model.intercept_)"
   ]
  },
  {
   "cell_type": "code",
   "execution_count": null,
   "id": "bb9dca81",
   "metadata": {},
   "outputs": [],
   "source": [
    "# Prognosis on first ten elemenets and random data"
   ]
  },
  {
   "cell_type": "code",
   "execution_count": 113,
   "id": "5c247dd8",
   "metadata": {
    "scrolled": true
   },
   "outputs": [
    {
     "name": "stdout",
     "output_type": "stream",
     "text": [
      "[3 3 3 1 1 3 1 3 3 3]\n",
      "[3 3 3 3 1 3 3 3 3 3 3 3 3 3 3 3 4 3 3 3]\n"
     ]
    }
   ],
   "source": [
    "print(model.predict(tel_X[:10]))\n",
    "rd = [rand]\n",
    "rand = []\n",
    "for i in range(20):\n",
    "    rand.append([random.randint(0,4), random.randint(0,1000)])\n",
    "print(model.predict(rand))"
   ]
  },
  {
   "cell_type": "code",
   "execution_count": 114,
   "id": "33d9de48",
   "metadata": {},
   "outputs": [],
   "source": [
    "# Making prediction for all data"
   ]
  },
  {
   "cell_type": "code",
   "execution_count": 115,
   "id": "986aeb3b",
   "metadata": {},
   "outputs": [],
   "source": [
    "y_pred = model.predict(X)"
   ]
  },
  {
   "cell_type": "code",
   "execution_count": 117,
   "id": "8a9c5b31",
   "metadata": {},
   "outputs": [
    {
     "name": "stdout",
     "output_type": "stream",
     "text": [
      "accuracy: 0.5347091932457786\n",
      "precision: 0.5347091932457786\n",
      "recall: 1.0\n",
      "f1 score: 0.6968215158924205\n",
      "confusion matrix:  [[  0 744]\n",
      " [  0 855]]\n"
     ]
    }
   ],
   "source": [
    "print(\"accuracy:\", accuracy_score(y, y_pred))\n",
    "print(\"precision:\", precision_score(y, y_pred))\n",
    "print(\"recall:\", recall_score(y, y_pred))\n",
    "print(\"f1 score:\", f1_score(y, y_pred))\n",
    "print(\"confusion matrix: \", confusion_matrix(y, y_pred))"
   ]
  },
  {
   "cell_type": "code",
   "execution_count": null,
   "id": "7ed4b72f",
   "metadata": {},
   "outputs": [],
   "source": [
    "# confusion matrix:  [[  0 744] [  0 855]]\n",
    "# 744 - liczna elementów faktycznych, przypisanych w danych\n",
    "# 855 liczba elementów przypisanych przez model \n",
    "# 855 / (744 + 855) = 0.5347091932457786"
   ]
  },
  {
   "cell_type": "code",
   "execution_count": 119,
   "id": "7966edca",
   "metadata": {},
   "outputs": [],
   "source": [
    "# Train test"
   ]
  },
  {
   "cell_type": "code",
   "execution_count": 120,
   "id": "2204c861",
   "metadata": {},
   "outputs": [],
   "source": [
    "X = tel_df[['region', 'income', 'age']].values\n",
    "y = tel_df['custcat'].values\n",
    "X_train, X_test, y_train, y_test = train_test_split(X, y)"
   ]
  },
  {
   "cell_type": "code",
   "execution_count": 121,
   "id": "f1b5c5e3",
   "metadata": {
    "scrolled": true
   },
   "outputs": [
    {
     "name": "stdout",
     "output_type": "stream",
     "text": [
      "whole dataset: (1000, 3) (1000,)\n",
      "training set: (750, 3) (750,)\n",
      "test set: (250, 3) (250,)\n"
     ]
    }
   ],
   "source": [
    "print(\"whole dataset:\", X.shape, y.shape)\n",
    "print(\"training set:\", X_train.shape, y_train.shape)\n",
    "print(\"test set:\", X_test.shape, y_test.shape)"
   ]
  },
  {
   "cell_type": "code",
   "execution_count": null,
   "id": "9c03f6b0",
   "metadata": {},
   "outputs": [],
   "source": [
    "# Test with KFold"
   ]
  },
  {
   "cell_type": "code",
   "execution_count": 153,
   "id": "77f3d96c",
   "metadata": {},
   "outputs": [
    {
     "name": "stdout",
     "output_type": "stream",
     "text": [
      "[0.34, 0.34, 0.34, 0.34, 0.34]\n",
      "0.34\n"
     ]
    },
    {
     "data": {
      "text/plain": [
       "LogisticRegression()"
      ]
     },
     "execution_count": 153,
     "metadata": {},
     "output_type": "execute_result"
    }
   ],
   "source": [
    "kf = KFold(n_splits=5, shuffle=True)\n",
    "\n",
    "scores = []\n",
    "kf = KFold(n_splits=5, shuffle=True)\n",
    "# loop x time on the data splited by 80/20 with different segmentation \n",
    "for train_index, test_index in kf.split(X):\n",
    "    X_train = X[train_indices]\n",
    "    X_test = X[test_indices]\n",
    "    y_train = y[train_indices]\n",
    "    y_test = y[test_indices]\n",
    "    model = LogisticRegression(solver='lbfgs', max_iter=1000)\n",
    "    model.fit(X_train, y_train)\n",
    "    scores.append(model.score(X_test, y_test))\n",
    "print(scores)\n",
    "print(np.mean(scores))\n",
    "final_model = LogisticRegression()\n",
    "final_model.fit(X, y)"
   ]
  },
  {
   "cell_type": "code",
   "execution_count": 154,
   "id": "b4e03c0e",
   "metadata": {},
   "outputs": [],
   "source": [
    "# Function for testing on different data"
   ]
  },
  {
   "cell_type": "code",
   "execution_count": 161,
   "id": "6362e675",
   "metadata": {},
   "outputs": [],
   "source": [
    "def score_model(X, y, split):\n",
    "    scores = []\n",
    "    kf = KFold(n_splits=split, shuffle=True)\n",
    "    # loop x time on the data splited by 80/20 with different segmentation \n",
    "    for train_index, test_index in kf.split(X):\n",
    "        X_train = X[train_indices]\n",
    "        X_test = X[test_indices]\n",
    "        y_train = y[train_indices]\n",
    "        y_test = y[test_indices]\n",
    "        model = LogisticRegression(solver='lbfgs', max_iter=1000)\n",
    "        model.fit(X_train, y_train)\n",
    "        scores.append(model.score(X_test, y_test))\n",
    "    print(scores)\n",
    "    print(np.mean(scores))\n",
    "    final_model = LogisticRegression()\n",
    "    final_model.fit(X, y)\n",
    "    print(final_model.score(X_test, y_test))"
   ]
  },
  {
   "cell_type": "code",
   "execution_count": 162,
   "id": "37235132",
   "metadata": {},
   "outputs": [
    {
     "name": "stdout",
     "output_type": "stream",
     "text": [
      "[0.32, 0.32, 0.32, 0.32, 0.32, 0.32, 0.32, 0.32, 0.32, 0.32]\n",
      "0.31999999999999995\n",
      "0.335\n"
     ]
    }
   ],
   "source": [
    "# Test kf on different data\n",
    "X = tel_df[['region', 'address']].values\n",
    "y = tel_df['custcat'].values\n",
    "score_model(X, y ,10)"
   ]
  },
  {
   "cell_type": "code",
   "execution_count": 163,
   "id": "631fa0b9",
   "metadata": {},
   "outputs": [],
   "source": [
    "# ROC - narzędzie dzięki któremu,\n",
    "# można odkryć różnice między współczynnikami prawdziwych pozytywów (TPR) \n",
    "# i współczynnikami fałszywych pozytywów (FPR). \n",
    "# Dzięki temu można dobrać model oraz futures w taki sposób by model był jak najbardziej dokładny,\n",
    "# pomocnym w tym jest również plot dokonywany przez ROC. Czym bardziej linia jest zakrzywiona do lewego \n",
    "# górnego rogu na wykresie tym lepiej"
   ]
  },
  {
   "cell_type": "code",
   "execution_count": 345,
   "id": "c9723ec1",
   "metadata": {},
   "outputs": [
    {
     "name": "stdout",
     "output_type": "stream",
     "text": [
      "2\n"
     ]
    },
    {
     "data": {
      "image/png": "[encoded data removed]",
      "text/plain": [
       "<Figure size 432x288 with 1 Axes>"
      ]
     },
     "metadata": {
      "needs_background": "light"
     },
     "output_type": "display_data"
    }
   ],
   "source": [
    "# standard training model \n",
    "X = tel_df[['region', 'income']].values\n",
    "\n",
    "\n",
    "rand = []\n",
    "for i in range(1000):\n",
    "    rand.append([ random.randint(999,1000)])\n",
    "\n",
    "\n",
    "# X_train, X_test, y_train, y_test = train_test_split(np.array(rand), y)\n",
    "\n",
    "y = tel_df['custcat'].values\n",
    "X_train, X_test, y_train, y_test = train_test_split(X, y)\n",
    "\n",
    "y_score = model.fit(X_train, y_train).predict_proba(X_test)\n",
    "\n",
    "\n",
    "# convert multi data to binary \n",
    "label_binarizer = LabelBinarizer().fit(y_train)\n",
    "y_onehot_test = label_binarizer.transform(y_test)\n",
    "y_onehot_test.shape  # (n_samples, n_classes)\n",
    "\n",
    "# which category of clients we are intrested in \n",
    "class_of_interest = 3\n",
    "\n",
    "class_id = np.flatnonzero(label_binarizer.classes_ == class_of_interest)[0]\n",
    "print(class_id)\n",
    "# plotting \n",
    "RocCurveDisplay.from_predictions(\n",
    "    y_onehot_test[:, class_of_interest],\n",
    "    y_score[:, class_of_interest],\n",
    "    name=f\"{class_of_interest} vs the rest\"\n",
    ")\n",
    "plt.plot([0, 1], [0, 1], \"k--\", label=\"chance level (AUC = 0.5)\")\n",
    "plt.axis(\"square\")\n",
    "plt.xlabel(\"False Positive Rate\")\n",
    "plt.ylabel(\"True Positive Rate\")\n",
    "plt.title(\"One-vs-Rest ROC curves:\\n\"+ str(class_of_interest) +\" vs (Setosa & Versicolor)\")\n",
    "plt.legend()\n",
    "plt.show()"
   ]
  },
  {
   "cell_type": "code",
   "execution_count": null,
   "id": "bacd3ceb",
   "metadata": {},
   "outputs": [],
   "source": []
  }
 ],
 "metadata": {
  "kernelspec": {
   "display_name": "Python 3 (ipykernel)",
   "language": "python",
   "name": "python3"
  },
  "language_info": {
   "codemirror_mode": {
    "name": "ipython",
    "version": 3
   },
   "file_extension": ".py",
   "mimetype": "text/x-python",
   "name": "python",
   "nbconvert_exporter": "python",
   "pygments_lexer": "ipython3",
   "version": "3.9.12"
  }
 },
 "nbformat": 4,
 "nbformat_minor": 5
}
